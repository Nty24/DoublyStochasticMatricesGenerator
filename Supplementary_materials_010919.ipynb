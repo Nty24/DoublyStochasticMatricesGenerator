{
 "cells": [
  {
   "cell_type": "code",
   "execution_count": 1,
   "metadata": {},
   "outputs": [],
   "source": [
    "import numpy as np\n",
    "#np.set_printoptions(precision=10)"
   ]
  },
  {
   "cell_type": "markdown",
   "metadata": {},
   "source": [
    "# Randomly generated symmetric doubly stochastic matrices whose spectra sums up to $\\delta \\in [\\frac{1}{2}, 1]$\n",
    "## Authors: Michał Gnacik and Tomasz Kania\n",
    "\n",
    "### Supplementary to:  Inverse problems for symmetric doubly stochastic matrices whose Suleuimanova spectra are to be bounded below by 1/2. \n",
    "### Arxiv link: <a href =\"https://arxiv.org/abs/1909.01291\">1909.01291 </a>"
   ]
  },
  {
   "cell_type": "markdown",
   "metadata": {},
   "source": [
    "Let $\\sigma = (1, \\lambda_2, \\ldots, \\lambda_{n})$, where $\\lambda_i \\leq 0$ for $i = 2, \\ldots, n$,\n",
    "be such that\n",
    "$$1 + \\lambda_2 + \\ldots + \\lambda_n \\geqslant \\delta$$\n",
    "for some $\\delta >0$.\n",
    "\n",
    "Below we present a simple algorithm how to generate doubly stochastic matrices such that the sum of $\\sigma$ is $\\geq \\frac{1}{2}$. "
   ]
  },
  {
   "cell_type": "code",
   "execution_count": 2,
   "metadata": {},
   "outputs": [],
   "source": [
    "\"\"\" This function returns kth-row, lth-column element of a matrix\"\"\"\n",
    "def matrix_entries(k,l, spectrum):\n",
    "    # k and l: int, it should range (0, spectrum.size)\n",
    "    # spectrum: np.array, spectrum sigma = (1, lambda_2, ..., lambda_n)\n",
    "    # Output: float, returns the element of a matrix on the kth row and lth column. \n",
    "    n = spectrum.size\n",
    "    A = [np.sin(2*np.pi*k*j / n + np.pi/4)*np.sin(2*np.pi*l*j / n + np.pi/4) for j in range(1,n)]\n",
    "    return 1/n*(1+2*np.dot(spectrum[1:], A))"
   ]
  },
  {
   "cell_type": "code",
   "execution_count": 3,
   "metadata": {},
   "outputs": [],
   "source": [
    "\"\"\" This function generate a random spectrium that sums up to sul_delta\"\"\"\n",
    "def random_spectrum(n, sul_delta, distribution = \"np.random.uniform\"):\n",
    "    # n: int, size of the spectrum\n",
    "    # sul_delta: float, should be taken from  [0.5, 1].\n",
    "    # distibution: any np (or scipy) distribution supported on (0, 1)\n",
    "    # Output: np.array, returns the spectrum that sums up to sul_delts\n",
    "    m = n-1\n",
    "    alpha = sul_delta-1\n",
    "    spectrum = eval(distribution)(0,1, size=m)\n",
    "    spectrum = alpha*spectrum/np.sum(spectrum)\n",
    "    return np.concatenate([[1], spectrum])"
   ]
  },
  {
   "cell_type": "code",
   "execution_count": 4,
   "metadata": {},
   "outputs": [],
   "source": [
    "\"\"\" This function checks if the spectrum generates a valid symmetric doubly stochastic matrix\"\"\"\n",
    "def verify_if_mat_valid(spectrum):\n",
    "    # spectrum: np.array, spectrum sigma = (1, lambda_2, ..., lambda_n)\n",
    "    # Output: bool, True or False depending if the spectrum \n",
    "    #         let us construct symmetric doubly stochastic matrix with matrix_entries\n",
    "    m = spectrum[1::].size\n",
    "    for k in range(m-1):\n",
    "        for l in range(k, m-1):\n",
    "            value = matrix_entries(k, l, spectrum[1::])\n",
    "            if value<0.0:\n",
    "                return False#spectrum.size+1,value,spectrum, k\n",
    "    return True"
   ]
  },
  {
   "cell_type": "code",
   "execution_count": 5,
   "metadata": {},
   "outputs": [],
   "source": [
    "\"\"\" This function constructs a symmetric doubly stochastic n x n matrix whose spectrum sums up to sul_delta \"\"\"\n",
    "def constr_ds_matrix(n, sul_delta):\n",
    "    # n: int, size of the spectrum\n",
    "    # sul_delta: float, should be taken from  [0.5, 1].\n",
    "    # returns: np.array, a symmetric doubly stochastic matrix, with spectrume that sums up to sul_delta\n",
    "    spectrum = random_spectrum(n, sul_delta)\n",
    "    m = n-1\n",
    "    assert verify_if_mat_valid(spectrum)\n",
    "    P = np.array([[ matrix_entries(k, l, spectrum) for k in range(n)] for l in range(n)])\n",
    "    return P"
   ]
  },
  {
   "cell_type": "markdown",
   "metadata": {},
   "source": [
    "### Examples of symmetric double stochastic $n \\times n$ matrix whose spectrum sums up to $\\delta$"
   ]
  },
  {
   "cell_type": "code",
   "execution_count": 9,
   "metadata": {},
   "outputs": [
    {
     "name": "stdout",
     "output_type": "stream",
     "text": [
      "[[0.1        0.15354037 0.26847547 0.28976443 0.18821973]\n",
      " [0.15354037 0.08935552 0.18152453 0.29645963 0.27911995]\n",
      " [0.26847547 0.18152453 0.11733968 0.17088005 0.26178027]\n",
      " [0.28976443 0.29645963 0.17088005 0.08266032 0.16023557]\n",
      " [0.18821973 0.27911995 0.26178027 0.16023557 0.11064448]]\n"
     ]
    }
   ],
   "source": [
    "n = 5 #dimension of rows and column space of your matrix\n",
    "sul_delta = 0.5 # the sum of the spectrum\n",
    "A = constr_ds_matrix(n, sul_delta) # example of a symmetric double stochastic matrix\n",
    "print(A)"
   ]
  },
  {
   "cell_type": "markdown",
   "metadata": {},
   "source": [
    "# Conditions on spectra that lead to a symmetric doubly stochastic matrix"
   ]
  },
  {
   "cell_type": "markdown",
   "metadata": {},
   "source": [
    "# Perfect-Mirsky condition\n",
    "[H. Perfect, L. Mirsky, Spectral properties of doubly-stochastic matrices, Monatsh. Math. 69 (1965) 35-57.]\n",
    "\n",
    "Let $n \\in \\mathbb{N}$ if\n",
    "$$\\frac{1}{n} +\\frac{1}{n(n-1)}\\lambda_2 + \\ldots + \\frac{\\lambda_{n}}{2\\cdot 1} \\geqslant 0$$\n",
    "then there exists a symmetric doubly stochastic matrix with spectrum $\\sigma = (1, \\lambda_2, \\ldots, \\lambda_{n})$."
   ]
  },
  {
   "cell_type": "code",
   "execution_count": 24,
   "metadata": {},
   "outputs": [],
   "source": [
    "\"\"\" This function verifies if Perfect-Mirsky condition is satisfied given the spectrum \"\"\"\n",
    "def per_mir(spectrum):\n",
    "    # spectrum: np.array, spectrum sigma = (1, lambda_2, ..., lambda_n)\n",
    "    spectrum = np.sort(spectrum)[::-1]\n",
    "    n = spectrum.size\n",
    "    formula = np.array([1/((n-k)*(n-k+1))*spectrum[1:][k-1] for k in range(1, n)])\n",
    "    return 1/n + np.sum(formula)"
   ]
  },
  {
   "cell_type": "markdown",
   "metadata": {},
   "source": [
    "# Soules condition\n",
    "[G.W. Soules, Constructing symmetric nonnegative matrices, Linear Multilinear Algebra 13 (1983), 241-251.]\n",
    "\n",
    "Let $m, n \\in \\mathbb{N}$ be such that $n=2m +1$ in the case $n$ is odd and $n=2m+2$ in the case where $m$ is even. If\n",
    "\\begin{equation}\\label{eqn: soules}\\frac{1}{n} +\\frac{n-m-1}{n(m+1)}\\lambda_2  + \\sum_{k=1}^n\\frac{\\lambda_{n-2k+2}}{(k+1)k} \\geqslant 0,\\end{equation}\n",
    "then there exists a symmetric doubly stochastic matrix with spectrum $\\sigma = (1, \\lambda_2, \\ldots, \\lambda_{n})$."
   ]
  },
  {
   "cell_type": "code",
   "execution_count": 25,
   "metadata": {},
   "outputs": [],
   "source": [
    "\"\"\" This function verifies if Soules condition is satisfied given the spectrum \"\"\"\n",
    "def soules(spectrum):\n",
    "    # spectrum: np.array, spectrum sigma = (1, lambda_2, ..., lambda_n)\n",
    "    spectrum = np.sort(spectrum)[::-1]\n",
    "    n = spectrum.size\n",
    "    if n%2 == 0:\n",
    "        m = int((n-2)/2)\n",
    "    else:\n",
    "        m = int((n-1)/2)\n",
    "    formula = np.array([1/(r*(r+1))*spectrum[1:][n-2*r] for r in range(1, m+1)])\n",
    "    return 1/n+(n-m-1)/(n*(m+1))*spectrum[1:][0]+np.sum(formula)"
   ]
  },
  {
   "cell_type": "markdown",
   "metadata": {},
   "source": [
    "### Spectra that sum up to 0.5 but do not satisfy Perfect-Mirsky or Soules conditions"
   ]
  },
  {
   "cell_type": "code",
   "execution_count": 26,
   "metadata": {},
   "outputs": [
    {
     "name": "stdout",
     "output_type": "stream",
     "text": [
      "-0.011833333333333335\n",
      "-0.018000000000000016\n",
      "-0.007666666666666683\n",
      "-0.010000000000000037\n"
     ]
    }
   ],
   "source": [
    "sigma5 = np.array([1,-0.02, -0.03, -0.05, -0.4])\n",
    "sigma6 = np.array([1, -0.01, -0.02, -0.06, -0.08, -0.33])\n",
    "\n",
    "print(per_mir(sigma5))\n",
    "print(per_mir(sigma6))\n",
    "print(soules(sigma5))\n",
    "print(soules(sigma6))"
   ]
  },
  {
   "cell_type": "markdown",
   "metadata": {},
   "source": [
    "# New Condition 1 - Improved Soules condition (for n even)\n",
    "Theorem 3, Notation 1, Observation 1 in [R. Nader, B. Mourad, A. Bretto, and H. Abbas, A note on the real inverse spectral problem for doubly stochastic matrices, Linear Algebra Appl, 569 (2019), 206--240].\n",
    "Let $n \\geq 5$ and let $n$ be even, if"
   ]
  },
  {
   "cell_type": "markdown",
   "metadata": {},
   "source": [
    "$$\\frac{1}{n} + \\frac{1}{n}\\lambda_2 + \\frac{\\frac{n}{2}- \\left[\\frac{n+2}{4} \\right]}{\\frac{n}{2}\\left[\\frac{n+2}{4} \\right]}\\lambda_4+\\sum_{k=1}^{\\left[\\frac{n+2}{4} \\right]-1}\\frac{\\lambda_{n-4k+4}}{k(k+1)} \\geq 0$$\n",
    "then there exists a symmetric doubly stochastic matrix with spectrum $\\sigma = (1, \\lambda_2, \\ldots, \\lambda_{n})$."
   ]
  },
  {
   "cell_type": "code",
   "execution_count": 27,
   "metadata": {},
   "outputs": [],
   "source": [
    "\"\"\" This function verifies if Improved Soules condition is satisfied given the spectrum \"\"\"\n",
    "def imp_soules(spectrum):\n",
    "    # spectrum: np.array, spectrum sigma = (1, lambda_2, ..., lambda_n)\n",
    "    spectrum = np.sort(spectrum)[::-1]\n",
    "    n = spectrum.size\n",
    "    assert n%2==0\n",
    "    N = int(np.floor((n+2)/4))\n",
    "    formula = np.array([1/(r*(r+1))*spectrum[1:][n-4*r+2] for r in range(1, N)])\n",
    "    return 1/n + 1/n*spectrum[1:][0]+(n/2-N)/(n/2*N)*spectrum[1:][2]+np.sum(formula)"
   ]
  },
  {
   "cell_type": "markdown",
   "metadata": {},
   "source": [
    "### Spectrum that sums up to 0.5 but does not satisfy Improved Soules cond. "
   ]
  },
  {
   "cell_type": "code",
   "execution_count": 28,
   "metadata": {},
   "outputs": [
    {
     "name": "stdout",
     "output_type": "stream",
     "text": [
      "-0.020166666666666652\n"
     ]
    }
   ],
   "source": [
    "sigma20 = np.array([1, -0.01,  -0.01,  -0.025, -0.03,  -0.035, -0.04,  -0.05,  -0.08,  -0.22])\n",
    "print(imp_soules(sigma20))"
   ]
  },
  {
   "cell_type": "markdown",
   "metadata": {},
   "source": [
    "# New Condition 1 - Independent from the Soules Condition (for n odd)\n",
    "Theorem 4, Notation 1 in [R. Nader, B. Mourad, A. Bretto, and H. Abbas, A note on the real inverse spectral problem for doubly stochastic matrices, Linear Algebra Appl, 569 (2019), 206--240]. Let $n \\geq 5$ and let $n$ be odd, if"
   ]
  },
  {
   "cell_type": "markdown",
   "metadata": {},
   "source": [
    "$$\\frac{1}{n} + \\frac{n-1}{n(n+1)}\\lambda_2 + \\frac{\\frac{n+1}{2}- \\left[\\frac{n+3}{4} \\right]}{\\frac{n+1}{2}\\left[\\frac{n+3}{4} \\right]}\\lambda_4+\\sum_{k=1}^{\\left[\\frac{n+3}{4} \\right]-1}\\frac{\\lambda_{n-4k+4}}{k(k+1)} \\geq 0$$\n",
    "then there exists a symmetric doubly stochastic matrix with spectrum $\\sigma = (1, \\lambda_2, \\ldots, \\lambda_{n})$."
   ]
  },
  {
   "cell_type": "code",
   "execution_count": 29,
   "metadata": {},
   "outputs": [],
   "source": [
    "\"\"\" This function verifies if new condition 1 is satisfied given the spectrum \"\"\"\n",
    "def new_cond1(spectrum):\n",
    "    # spectrum: np.array, spectrum sigma = (1, lambda_2, ..., lambda_n)\n",
    "    spectrum = np.sort(spectrum)[::-1]\n",
    "    n = spectrum.size\n",
    "    assert n%2!=0\n",
    "    N = int(np.floor((n+3)/4))\n",
    "    formula = np.array([1/(r*(r+1))*spectrum[1:][n-4*r+2] for r in range(1, N)])\n",
    "    return 1/n + (n-1)/(n*(n+1))*spectrum[1:][0]+((n+1)/2-N/((n+1)/2*N))*spectrum[1:][2]+np.sum(formula)"
   ]
  },
  {
   "cell_type": "markdown",
   "metadata": {},
   "source": [
    "#### Spectrum that sums up to 0.5 but does not satisfy New Cond. 1. "
   ]
  },
  {
   "cell_type": "code",
   "execution_count": 30,
   "metadata": {},
   "outputs": [
    {
     "name": "stdout",
     "output_type": "stream",
     "text": [
      "-0.11066666666666666\n"
     ]
    }
   ],
   "source": [
    "sigma5 = np.array([1,-0.03, -0.03, -0.04, -0.4])\n",
    "print(new_cond1(sigma5))"
   ]
  },
  {
   "cell_type": "markdown",
   "metadata": {},
   "source": [
    "# New Condition 2\n",
    "Theorem 5, Notation 2 in [R. Nader, B. Mourad, A. Bretto, and H. Abbas, A note on the real inverse spectral problem for doubly stochastic matrices, Linear Algebra Appl, 569 (2019), 206--240]. Let $m \\geq 2$. "
   ]
  },
  {
   "cell_type": "markdown",
   "metadata": {},
   "source": [
    "If $n=4m$ and\n",
    "\n",
    "$$\\frac{1}{n}+\\frac{1}{n}\\lambda_2+\\frac{2}{n}\\lambda_4 + \\frac{\\frac{n}{4} - \\left[\\frac{n+4}{8}\\right]}{\\frac{n}{4} \\left[\\frac{n+4}{8}\\right]}\\lambda_8 +\\sum_{k=1}^{\\left[\\frac{n+4}{8}\\right]-1}\\frac{\\lambda_{n-8k+8}}{k(k+1)} \\geq 0,$$\n",
    "or $n=4m+2$ and\n",
    "$$\\frac{1}{n}+\\frac{1}{n}\\lambda_2+\\frac{2(n-2)}{n(n+2)}\\lambda_4 + \\frac{\\frac{n+2}{4} - \\left[\\frac{n+6}{8}\\right]}{\\frac{n+2}{4} \\left[\\frac{n+6}{8}\\right]}\\lambda_8 +\\sum_{k=1}^{\\left[\\frac{n+6}{8}\\right]-1}\\frac{\\lambda_{n-8k+8}}{k(k+1)} \\geq 0,$$\n",
    "or $n=4m+3$ and\n",
    "$$\\frac{1}{n}+\\frac{n-1}{n(n+1)}\\lambda_2+\\frac{2}{n+1}\\lambda_4 + \\frac{\\frac{n+1}{4} - \\left[\\frac{n+5}{8}\\right]}{\\frac{n+1}{4} \\left[\\frac{n+5}{8}\\right]}\\lambda_8 +\\sum_{k=1}^{\\left[\\frac{n+5}{8}\\right]-1}\\frac{\\lambda_{n-8k+8}}{k(k+1)} \\geq 0,$$\n",
    "or $n=4m+1$ and\n",
    "$$\\frac{1}{n}+\\frac{n-1}{n(n+1)}\\lambda_2+\\frac{2(n-1)}{(n+1)(n+3)}\\lambda_4 + \\frac{\\frac{n+3}{4} - \\left[\\frac{n+7}{8}\\right]}{\\frac{n+3}{4} \\left[\\frac{n+7}{8}\\right]}\\lambda_8 +\\sum_{k=1}^{\\left[\\frac{n+7}{8}\\right]-1}\\frac{\\lambda_{n-8k+8}}{k(k+1)} \\geq 0 $$\n",
    "then there exists a symmetric doubly stochastic matrix with spectrum $\\sigma = (1, \\lambda_2, \\ldots, \\lambda_{n})$."
   ]
  },
  {
   "cell_type": "code",
   "execution_count": 31,
   "metadata": {},
   "outputs": [],
   "source": [
    "def last_sum(N, spectrum):\n",
    "    # N: numerical value, int or float\n",
    "    # spectrum: np.array, spectrum sigma = (1, lambda_2, ..., lambda_n)\n",
    "    N = int(N)\n",
    "    n = spectrum.size\n",
    "    return np.sum(np.array([1/(r*(r+1))*spectrum[1:][n-8*r+6] for r in range(1, N)]))\n",
    "\n",
    "\n",
    "\"\"\" This function verifies if new condition 2 is satisfied given the spectrum \"\"\"\n",
    "def new_cond2(spectrum):\n",
    "    # spectrum: np.array, spectrum sigma = (1, lambda_2, ..., lambda_n)\n",
    "    spectrum = np.sort(spectrum)[::-1]\n",
    "    n = spectrum.size\n",
    "    if n%4==0:\n",
    "        N=np.floor((n+4)/8)\n",
    "        return 1/n + 1/n*spectrum[1:][0]+2/n*spectrum[1:][2]*(n/4-N)/((n/4)*N)*spectrum[1:][6]+last_sum(N, spectrum)\n",
    "    elif n%4==2:\n",
    "        N=np.floor((n+6)/8)\n",
    "        return 1/n + 1/n*spectrum[1:][0]+2*(n-2)/(n*(n+2))*spectrum[1:][2]*((n+2)/4-N)/(((n+2)/4)*N)*spectrum[1:][6]+last_sum(N, spectrum)\n",
    "    elif n%4==3:\n",
    "        N=np.floor((n+5)/8)\n",
    "        return 1/n + (n-1)/(n*(n+1))*spectrum[1:][0]+2/(n+1)*spectrum[1:][2]*((n+1)/4-N)/(((n+1)/4)*N)*spectrum[1:][6]+last_sum(N, spectrum)\n",
    "    else:\n",
    "        N=np.floor((n+7)/8)\n",
    "        return 1/n + (n-1)/(n*(n+1))*spectrum[1:][0]+2*(n-1)/((n+1)*(n+3))*spectrum[1:][2]*((n+3)/4-N)/(((n+3)/4)*N)*spectrum[1:][6]+last_sum(N, spectrum)"
   ]
  },
  {
   "cell_type": "markdown",
   "metadata": {},
   "source": [
    "#### Spectra that sums up to 0.5 but does not satisfy New Cond. 2. "
   ]
  },
  {
   "cell_type": "code",
   "execution_count": 32,
   "metadata": {},
   "outputs": [
    {
     "name": "stdout",
     "output_type": "stream",
     "text": [
      "-0.0016848875000000027\n",
      "-0.010984444444444436\n",
      "-0.009152777777777787\n",
      "-0.010375555555555555\n"
     ]
    }
   ],
   "source": [
    "sigma16 = np.array([1, -0.003,  -0.003,  -0.004,  -0.007,  -0.009,  -0.02,   -0.0209,-0.021,  -0.024,\n",
    " -0.026,  -0.035,  -0.042,  -0.076,  -0.0811, -0.128])\n",
    "print(new_cond2(sigma16))\n",
    "\n",
    "sigma10 = np.array([1, -0.01, -0.01, -0.01, -0.02, -0.02, -0.04, -0.07, -0.1,-0.22])\n",
    "print(new_cond2(sigma10))\n",
    "\n",
    "sigma11 = np.array([1, -0.001, -0.004, -0.01,  -0.01,  -0.012, -0.013, -0.05,  -0.09,  -0.11,  -0.2 ])\n",
    "print(new_cond2(sigma11))\n",
    "\n",
    "sigma9 = np.array([1, -0.006, -0.018, -0.02,  -0.028, -0.028, -0.053, -0.105, -0.242])\n",
    "print(new_cond2(sigma9))"
   ]
  },
  {
   "cell_type": "markdown",
   "metadata": {},
   "source": [
    "# New Condition 3,  the case when $n =26$\n",
    "Conjecture 1, Example 1 in [R. Nader, B. Mourad, A. Bretto, and H. Abbas, A note on the real inverse spectral problem for doubly stochastic matrices, Linear Algebra Appl, 569 (2019), 206--240]. If\n"
   ]
  },
  {
   "cell_type": "markdown",
   "metadata": {},
   "source": [
    "$$\\frac{1}{26}+\\frac{1}{26}\\lambda_2 + \\frac{6}{13\\cdot 7}\\lambda_4 + \\frac{3}{28}\\lambda_8+\\frac{1}{4}\\lambda_{16}+\\frac{1}{2}\\lambda_{26}\\geq 0$$\n",
    "then there exists a symmetric doubly stochastic matrix with spectrum $\\sigma = (1, \\lambda_2, \\ldots, \\lambda_{26})$."
   ]
  },
  {
   "cell_type": "code",
   "execution_count": 33,
   "metadata": {},
   "outputs": [],
   "source": [
    "\"\"\" This function verifies if new condition 3 is satisfied given the spectrum \"\"\"\n",
    "def new_cond3(spectrum):\n",
    "    # spectrum: np.array, spectrum sigma = (1, lambda_2, ..., lambda_n)\n",
    "    spectrum = np.sort(spectrum)[::-1]\n",
    "    n = spectrum.size\n",
    "    assert n==26\n",
    "    return 1/n+1/n*spectrum[1:][0]+(12)/(n*7)*spectrum[1:][2]+3/(n+2)*spectrum[1:][6]+1/4*spectrum[1:][14]+1/2*spectrum[1:][24]"
   ]
  },
  {
   "cell_type": "markdown",
   "metadata": {},
   "source": [
    "#### Spectrum that sums up to 0.5 but does not satisfy New Cond. 3. "
   ]
  },
  {
   "cell_type": "code",
   "execution_count": 34,
   "metadata": {},
   "outputs": [
    {
     "name": "stdout",
     "output_type": "stream",
     "text": [
      "-0.004016483516483517\n"
     ]
    }
   ],
   "source": [
    "sigma26 = [1, -0.004, -0.005, -0.006, -0.007, -0.01,  -0.01,  -0.011, -0.011, -0.011, -0.012,\n",
    " -0.012, -0.015, -0.015, -0.016, -0.017, -0.019, -0.02,  -0.022, -0.022, -0.025,\n",
    " -0.028, -0.028, -0.032, -0.069, -0.073]\n",
    "print(new_cond3(sigma26))"
   ]
  },
  {
   "cell_type": "markdown",
   "metadata": {},
   "source": [
    "# Generating examples of spectra that sum up to $\\delta \\in [\\frac{1}{2}, 1]$\n",
    "# but do not satisfy the above conditions. "
   ]
  },
  {
   "cell_type": "markdown",
   "metadata": {},
   "source": [
    "### Perfect-Mirsky and Soules conditions"
   ]
  },
  {
   "cell_type": "code",
   "execution_count": 67,
   "metadata": {},
   "outputs": [],
   "source": [
    "def generate_examples_pms(A, B, sul_delta, trials = 1000):\n",
    "    # A: int, to start the for loop with a spectrum with A elements\n",
    "    # B: int, to end  the for loop with a spectrum with B elements\n",
    "    # sul_delta: float, should be taken from  [0.5, 1].\n",
    "    # trials: int, number of different spectra generated. \n",
    "    # Output: returns two lists, \n",
    "    #         first list contains examples when Perfect-Mirsky condition does not hold\n",
    "    #         second list contains examples when Soules condition does not hold\n",
    "    results_per_mir = []\n",
    "    results_soules = []\n",
    "    for n in range(A, B):\n",
    "        for i in range(trials):\n",
    "            spectrum = random_spectrum(n, sul_delta)\n",
    "            spectrum = np.sort(spectrum)[::-1]\n",
    "            if per_mir(spectrum)<0:\n",
    "                results_per_mir.append(spectrum)\n",
    "                #print(\"Perfect-Mirsky cond.\", spectrum, per_mir(spectrum))\n",
    "            if soules(spectrum)<0:\n",
    "                results_soules.append(spectrum)\n",
    "                #print(\"Soules cond.\", spectrum, soules(spectrum)\n",
    "    return results_per_mir, results_soules\n",
    "    "
   ]
  },
  {
   "cell_type": "code",
   "execution_count": 105,
   "metadata": {},
   "outputs": [
    {
     "name": "stdout",
     "output_type": "stream",
     "text": [
      "[array([ 1.        , -0.00305868, -0.00549608, -0.0306248 , -0.17555056,\n",
      "       -0.28526989])]\n",
      "###########################\n",
      "[array([ 1.        , -0.00347896, -0.04957362, -0.06189354, -0.38505388])]\n"
     ]
    }
   ],
   "source": [
    "A, B = 5, 7\n",
    "sul_delta = 0.5\n",
    "trials = 50\n",
    "print(generate_examples_pms(A, B, sul_delta, trials)[0])\n",
    "print(\"###########################\")\n",
    "print(generate_examples_pms(A, B, sul_delta, trials)[0])"
   ]
  },
  {
   "cell_type": "markdown",
   "metadata": {},
   "source": [
    "### Improved condition 1 (contains Improved Soules condition for n even)"
   ]
  },
  {
   "cell_type": "code",
   "execution_count": 86,
   "metadata": {},
   "outputs": [],
   "source": [
    "def generate_examples_imp_cond1(A, B, sul_delta, trials = 1000):\n",
    "    # A: int, to start the for loop with a spectrum with A elements\n",
    "    # B: int, to end  the for loop with a spectrum with B elements\n",
    "    # sul_delta: float, should be taken from  [0.5, 1].\n",
    "    # trials: int, number of different spectra generated. \n",
    "    # Output: returns two lists, \n",
    "    #         first list contains examples when Improved condition 1 does not hold (n odd)\n",
    "    #         second list contains examples when improved Soules condition does not hold (n even)\n",
    "    results_cond1 = []\n",
    "    results_imp_soules = []\n",
    "    assert A>=5\n",
    "    for n in range(A, B):\n",
    "        for i in range(trials):\n",
    "            spectrum = random_spectrum(n, sul_delta)\n",
    "            spectrum = np.sort(spectrum)[::-1]\n",
    "            if n%2==0:\n",
    "                if imp_soules(spectrum)<0:\n",
    "                    results_imp_soules.append(spectrum)\n",
    "                    #print(\"Improved Soulesd cond.\", spectrum, imp_soules(spectrum))\n",
    "            if n%2!=0:\n",
    "                if new_cond1(spectrum)<0:\n",
    "                    results_cond1.append(spectrum)\n",
    "                    #print(\"Soules cond.\", spectrum, soules(spectrum)\n",
    "    return results_cond1, results_imp_soules"
   ]
  },
  {
   "cell_type": "code",
   "execution_count": 108,
   "metadata": {},
   "outputs": [
    {
     "name": "stdout",
     "output_type": "stream",
     "text": [
      "[array([ 1.        , -0.07466115, -0.1012881 , -0.15181129, -0.17223946]), array([ 1.        , -0.07846531, -0.10576005, -0.15424814, -0.1615265 ]), array([ 1.        , -0.06344029, -0.09099451, -0.16943802, -0.17612717]), array([ 1.        , -0.06481122, -0.10508408, -0.1109672 , -0.21913751]), array([ 1.        , -0.04710657, -0.12321536, -0.13382162, -0.19585645]), array([ 1.        , -0.07437103, -0.10842734, -0.13013879, -0.18706284]), array([ 1.        , -0.03379112, -0.09340607, -0.1217603 , -0.25104251]), array([ 1.        , -0.0213104 , -0.02187269, -0.17577125, -0.28104566]), array([ 1.        , -0.05443527, -0.06320256, -0.16466425, -0.21769792]), array([ 1.        , -0.06335596, -0.11268071, -0.15209612, -0.17186721])]\n",
      "###########################\n",
      "[array([ 1.00000000e+00, -1.22505120e-04, -1.18958058e-02, -5.52536140e-02,\n",
      "       -8.28875675e-02, -3.49840508e-01])]\n"
     ]
    }
   ],
   "source": [
    "sul_delta = 0.5\n",
    "A, B = 5, 6\n",
    "trials = 10\n",
    "print(generate_examples_imp_cond1(A, B, sul_delta, trials)[0])\n",
    "A, B = 6, 7\n",
    "trials = 100\n",
    "print(\"###########################\")\n",
    "print(generate_examples_imp_cond1(A, B, sul_delta, trials)[1])"
   ]
  },
  {
   "cell_type": "markdown",
   "metadata": {},
   "source": [
    "### Improved condition 2 "
   ]
  },
  {
   "cell_type": "code",
   "execution_count": 111,
   "metadata": {},
   "outputs": [],
   "source": [
    "def generate_examples_imp_cond2(A, B, sul_delta, trials = 1000):\n",
    "    # A: int, to start the for loop with a spectrum with A elements\n",
    "    # B: int, to end  the for loop with a spectrum with B elements\n",
    "    # sul_delta: float, should be taken from  [0.5, 1].\n",
    "    # trials: int, number of different spectra generated. \n",
    "    # Output: returns a list of spectra that does not satisfy impoved condition 2. \n",
    "    results_cond2=[]\n",
    "    assert A>=8\n",
    "    for n in range(A, B):\n",
    "        for i in range(trials):\n",
    "            spectrum = random_spectrum(n, sul_delta)\n",
    "            spectrum = np.sort(spectrum)[::-1]\n",
    "            if new_cond2(spectrum) <0:\n",
    "                results_cond2.append(spectrum)\n",
    "    return results_cond2"
   ]
  },
  {
   "cell_type": "code",
   "execution_count": 123,
   "metadata": {},
   "outputs": [
    {
     "name": "stdout",
     "output_type": "stream",
     "text": [
      "[array([ 1.        , -0.00194477, -0.00422638, -0.00481714, -0.0051333 ,\n",
      "       -0.00915552, -0.01205872, -0.01748905, -0.02643285, -0.02695055,\n",
      "       -0.03454564, -0.03663943, -0.04256653, -0.06001726, -0.09296968,\n",
      "       -0.12505319])]\n",
      "###########################\n",
      "[array([ 1.        , -0.01773602, -0.02974931, -0.03308642, -0.03464276,\n",
      "       -0.04393104, -0.04464775, -0.07675685, -0.21944985]), array([ 1.        , -0.00442101, -0.00677522, -0.01095098, -0.01526127,\n",
      "       -0.02539361, -0.04796391, -0.07875687, -0.31047713]), array([ 1.        , -0.00647115, -0.0122118 , -0.01845398, -0.02211989,\n",
      "       -0.03392391, -0.07621437, -0.10863061, -0.22197429])]\n",
      "###########################\n",
      "[array([ 1.00000000e+00, -3.40549956e-04, -1.16692407e-03, -1.53311385e-02,\n",
      "       -2.85901802e-02, -3.36993218e-02, -4.08988979e-02, -5.41962281e-02,\n",
      "       -1.05766044e-01, -2.20010716e-01]), array([ 1.        , -0.00503086, -0.01576794, -0.02436544, -0.03410192,\n",
      "       -0.03641722, -0.0367989 , -0.05041343, -0.09629685, -0.20080743])]\n",
      "###########################\n",
      "[array([ 1.        , -0.00271062, -0.0073421 , -0.00808174, -0.02352305,\n",
      "       -0.02402298, -0.0417138 , -0.05031103, -0.05574412, -0.1047958 ,\n",
      "       -0.18175477]), array([ 1.        , -0.00110098, -0.00381672, -0.0039761 , -0.01562882,\n",
      "       -0.02208265, -0.02945079, -0.0427023 , -0.09537097, -0.10332258,\n",
      "       -0.18254808])]\n"
     ]
    }
   ],
   "source": [
    "sul_delta = 0.5\n",
    "A, B = 16, 17\n",
    "trials = 5000\n",
    "print(generate_examples_imp_cond2(A, B, sul_delta, trials))\n",
    "A, B = 9, 10\n",
    "trials = 5000\n",
    "print(\"###########################\")\n",
    "print(generate_examples_imp_cond2(A, B, sul_delta, trials))\n",
    "A, B = 10, 11\n",
    "trials = 5000\n",
    "print(\"###########################\")\n",
    "print(generate_examples_imp_cond2(A, B, sul_delta, trials))\n",
    "A, B = 11, 12\n",
    "trials = 5000\n",
    "print(\"###########################\")\n",
    "print(generate_examples_imp_cond2(A, B, sul_delta, trials))"
   ]
  },
  {
   "cell_type": "markdown",
   "metadata": {},
   "source": [
    "### Improved condition 3"
   ]
  },
  {
   "cell_type": "code",
   "execution_count": 110,
   "metadata": {},
   "outputs": [],
   "source": [
    "def generate_examples_imp_cond3(A, B, sul_delta, trials = 1000):\n",
    "    # A: int, to start the for loop with a spectrum with A elements\n",
    "    # B: int, to end  the for loop with a spectrum with B elements\n",
    "    # sul_delta: float, should be taken from  [0.5, 1].\n",
    "    # trials: int, number of different spectra generated. \n",
    "    # Output: returns a list of spectra that does not satisfy impoved condition 3. \n",
    "    results_cond3=[]\n",
    "    assert (A==26 and B==27)\n",
    "    for n in range(A, B):\n",
    "        for i in range(trials):\n",
    "            spectrum = random_spectrum(n, sul_delta)\n",
    "            spectrum = np.sort(spectrum)[::-1]\n",
    "            if  new_cond3(spectrum) <0:\n",
    "                results_cond3.append(spectrum)\n",
    "    return results_cond3"
   ]
  },
  {
   "cell_type": "code",
   "execution_count": 128,
   "metadata": {},
   "outputs": [
    {
     "name": "stdout",
     "output_type": "stream",
     "text": [
      "[array([ 1.00000000e+00, -8.54943138e-04, -1.63849066e-03, -1.99941602e-03,\n",
      "       -2.98617509e-03, -3.00989912e-03, -5.85041849e-03, -9.29657170e-03,\n",
      "       -9.30664389e-03, -9.51879274e-03, -1.01306938e-02, -1.26104731e-02,\n",
      "       -1.37967053e-02, -1.45585407e-02, -1.75622069e-02, -1.82214551e-02,\n",
      "       -2.40008730e-02, -2.71986721e-02, -2.78463380e-02, -2.92366050e-02,\n",
      "       -3.14012729e-02, -3.45548818e-02, -3.52587079e-02, -4.54819300e-02,\n",
      "       -4.66583062e-02, -6.70209873e-02])]\n"
     ]
    }
   ],
   "source": [
    "sul_delta = 0.5\n",
    "A, B = 26, 27\n",
    "trials = 50000\n",
    "print(generate_examples_imp_cond3(A, B, sul_delta, trials))"
   ]
  },
  {
   "cell_type": "code",
   "execution_count": null,
   "metadata": {},
   "outputs": [],
   "source": []
  }
 ],
 "metadata": {
  "kernelspec": {
   "display_name": "Python 3",
   "language": "python",
   "name": "python3"
  },
  "language_info": {
   "codemirror_mode": {
    "name": "ipython",
    "version": 3
   },
   "file_extension": ".py",
   "mimetype": "text/x-python",
   "name": "python",
   "nbconvert_exporter": "python",
   "pygments_lexer": "ipython3",
   "version": "3.6.5"
  }
 },
 "nbformat": 4,
 "nbformat_minor": 2
}
